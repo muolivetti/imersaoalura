{
  "nbformat": 4,
  "nbformat_minor": 0,
  "metadata": {
    "colab": {
      "provenance": []
    },
    "kernelspec": {
      "name": "python3",
      "display_name": "Python 3"
    },
    "language_info": {
      "name": "python"
    }
  },
  "cells": [
    {
      "cell_type": "code",
      "source": [
        "%pip -q install google-genai"
      ],
      "metadata": {
        "id": "UCCbECexLk_h"
      },
      "execution_count": 5,
      "outputs": []
    },
    {
      "cell_type": "code",
      "source": [
        "# Configura a API Key do Google Gemini\n",
        "\n",
        "import os\n",
        "from google.colab import userdata\n",
        "\n",
        "os.environ[\"GOOGLE_API_KEY\"] = userdata.get('GOOGLE_API_KEY')"
      ],
      "metadata": {
        "id": "NfCqHo1tLk8P"
      },
      "execution_count": 6,
      "outputs": []
    },
    {
      "cell_type": "code",
      "source": [
        "# Configura o cliente da SDK do Gemini\n",
        "\n",
        "from google import genai\n",
        "\n",
        "client = genai.Client()\n",
        "\n",
        "MODEL_ID = \"gemini-2.0-flash\""
      ],
      "metadata": {
        "id": "bV4w0H5TLk5g"
      },
      "execution_count": 7,
      "outputs": []
    },
    {
      "cell_type": "code",
      "source": [
        "# Instalar Framework de agentes do Google ################################################\n",
        "!pip install -q google-adk"
      ],
      "metadata": {
        "colab": {
          "base_uri": "https://localhost:8080/"
        },
        "id": "a1eRPalxEnj7",
        "outputId": "623fa0d5-91c1-4784-c07d-21aad018e62c"
      },
      "execution_count": 8,
      "outputs": [
        {
          "output_type": "stream",
          "name": "stdout",
          "text": [
            "\u001b[?25l   \u001b[90m━━━━━━━━━━━━━━━━━━━━━━━━━━━━━━━━━━━━━━━━\u001b[0m \u001b[32m0.0/1.2 MB\u001b[0m \u001b[31m?\u001b[0m eta \u001b[36m-:--:--\u001b[0m\r\u001b[2K   \u001b[90m━━━━━━━━━━━━━━━━━━━━━━━━━━━━━━━━━━━━━━━━\u001b[0m \u001b[32m1.2/1.2 MB\u001b[0m \u001b[31m35.5 MB/s\u001b[0m eta \u001b[36m0:00:00\u001b[0m\n",
            "\u001b[?25h\u001b[?25l   \u001b[90m━━━━━━━━━━━━━━━━━━━━━━━━━━━━━━━━━━━━━━━━\u001b[0m \u001b[32m0.0/232.1 kB\u001b[0m \u001b[31m?\u001b[0m eta \u001b[36m-:--:--\u001b[0m\r\u001b[2K   \u001b[90m━━━━━━━━━━━━━━━━━━━━━━━━━━━━━━━━━━━━━━━━\u001b[0m \u001b[32m232.1/232.1 kB\u001b[0m \u001b[31m17.8 MB/s\u001b[0m eta \u001b[36m0:00:00\u001b[0m\n",
            "\u001b[2K   \u001b[90m━━━━━━━━━━━━━━━━━━━━━━━━━━━━━━━━━━━━━━━━\u001b[0m \u001b[32m95.2/95.2 kB\u001b[0m \u001b[31m6.9 MB/s\u001b[0m eta \u001b[36m0:00:00\u001b[0m\n",
            "\u001b[2K   \u001b[90m━━━━━━━━━━━━━━━━━━━━━━━━━━━━━━━━━━━━━━━━\u001b[0m \u001b[32m217.1/217.1 kB\u001b[0m \u001b[31m16.9 MB/s\u001b[0m eta \u001b[36m0:00:00\u001b[0m\n",
            "\u001b[2K   \u001b[90m━━━━━━━━━━━━━━━━━━━━━━━━━━━━━━━━━━━━━━━━\u001b[0m \u001b[32m334.1/334.1 kB\u001b[0m \u001b[31m23.0 MB/s\u001b[0m eta \u001b[36m0:00:00\u001b[0m\n",
            "\u001b[2K   \u001b[90m━━━━━━━━━━━━━━━━━━━━━━━━━━━━━━━━━━━━━━━━\u001b[0m \u001b[32m125.1/125.1 kB\u001b[0m \u001b[31m9.6 MB/s\u001b[0m eta \u001b[36m0:00:00\u001b[0m\n",
            "\u001b[2K   \u001b[90m━━━━━━━━━━━━━━━━━━━━━━━━━━━━━━━━━━━━━━━━\u001b[0m \u001b[32m65.8/65.8 kB\u001b[0m \u001b[31m5.1 MB/s\u001b[0m eta \u001b[36m0:00:00\u001b[0m\n",
            "\u001b[2K   \u001b[90m━━━━━━━━━━━━━━━━━━━━━━━━━━━━━━━━━━━━━━━━\u001b[0m \u001b[32m119.0/119.0 kB\u001b[0m \u001b[31m10.3 MB/s\u001b[0m eta \u001b[36m0:00:00\u001b[0m\n",
            "\u001b[2K   \u001b[90m━━━━━━━━━━━━━━━━━━━━━━━━━━━━━━━━━━━━━━━━\u001b[0m \u001b[32m194.9/194.9 kB\u001b[0m \u001b[31m14.3 MB/s\u001b[0m eta \u001b[36m0:00:00\u001b[0m\n",
            "\u001b[2K   \u001b[90m━━━━━━━━━━━━━━━━━━━━━━━━━━━━━━━━━━━━━━━━\u001b[0m \u001b[32m62.5/62.5 kB\u001b[0m \u001b[31m5.2 MB/s\u001b[0m eta \u001b[36m0:00:00\u001b[0m\n",
            "\u001b[2K   \u001b[90m━━━━━━━━━━━━━━━━━━━━━━━━━━━━━━━━━━━━━━━━\u001b[0m \u001b[32m103.3/103.3 kB\u001b[0m \u001b[31m8.2 MB/s\u001b[0m eta \u001b[36m0:00:00\u001b[0m\n",
            "\u001b[2K   \u001b[90m━━━━━━━━━━━━━━━━━━━━━━━━━━━━━━━━━━━━━━━━\u001b[0m \u001b[32m44.4/44.4 kB\u001b[0m \u001b[31m3.0 MB/s\u001b[0m eta \u001b[36m0:00:00\u001b[0m\n",
            "\u001b[2K   \u001b[90m━━━━━━━━━━━━━━━━━━━━━━━━━━━━━━━━━━━━━━━━\u001b[0m \u001b[32m72.0/72.0 kB\u001b[0m \u001b[31m6.4 MB/s\u001b[0m eta \u001b[36m0:00:00\u001b[0m\n",
            "\u001b[?25h"
          ]
        }
      ]
    },
    {
      "cell_type": "code",
      "execution_count": 9,
      "metadata": {
        "id": "aePV2bdfDeoW"
      },
      "outputs": [],
      "source": [
        "from google.adk.agents import Agent\n",
        "from google.adk.runners import Runner\n",
        "from google.adk.sessions import InMemorySessionService\n",
        "from google.adk.tools import google_search\n",
        "from google.genai import types  # Para criar conteúdos (Content e Part)\n",
        "from datetime import date\n",
        "import textwrap # Para formatar melhor a saída de texto\n",
        "from IPython.display import display, Markdown # Para exibir texto formatado no Colab\n",
        "import requests # Para fazer requisições HTTP\n",
        "import warnings\n",
        "\n",
        "warnings.filterwarnings(\"ignore\")"
      ]
    },
    {
      "cell_type": "code",
      "source": [
        "# Função auxiliar que envia uma mensagem para um agente via Runner e retorna a resposta final\n",
        "def call_agent(agent: Agent, message_text: str) -> str:\n",
        "    # Cria um serviço de sessão em memória\n",
        "    session_service = InMemorySessionService()\n",
        "    # Cria uma nova sessão (você pode personalizar os IDs conforme necessário)\n",
        "    session = session_service.create_session(app_name=agent.name, user_id=\"user1\", session_id=\"session1\")\n",
        "    # Cria um Runner para o agente\n",
        "    runner = Runner(agent=agent, app_name=agent.name, session_service=session_service)\n",
        "    # Cria o conteúdo da mensagem de entrada\n",
        "    content = types.Content(role=\"user\", parts=[types.Part(text=message_text)])\n",
        "\n",
        "    final_response = \"\"\n",
        "    # Itera assincronamente pelos eventos retornados durante a execução do agente\n",
        "    for event in runner.run(user_id=\"user1\", session_id=\"session1\", new_message=content):\n",
        "        if event.is_final_response():\n",
        "          for part in event.content.parts:\n",
        "            if part.text is not None:\n",
        "              final_response += part.text\n",
        "              final_response += \"\\n\"\n",
        "    return final_response"
      ],
      "metadata": {
        "id": "_xP4lWhsS5ko"
      },
      "execution_count": 10,
      "outputs": []
    },
    {
      "cell_type": "code",
      "source": [
        "# Função auxiliar para exibir texto formatado em Markdown no Colab\n",
        "def to_markdown(text):\n",
        "  text = text.replace('•', '  *')\n",
        "  return Markdown(textwrap.indent(text, '> ', predicate=lambda _: True))"
      ],
      "metadata": {
        "id": "8dosiodaxfFR"
      },
      "execution_count": 11,
      "outputs": []
    },
    {
      "cell_type": "code",
      "source": [
        "##########################################\n",
        "# --- Agente 1: Agente de viagem [Turismo] --- #\n",
        "##########################################\n",
        "def agente_turismo(destino):\n",
        "\n",
        "    turismo = Agent(\n",
        "        name=\"agente_buscador\",\n",
        "        model=\"gemini-2.0-flash\",\n",
        "        instruction=\"\"\"\n",
        "        Você é um agente de viagens responsável por fornecer um panorama geral e envolvente do destino da viagem para o cliente.\n",
        "        Seu objetivo é despertar o interesse e fornecer informações essenciais antes que o roteiro detalhado seja apresentado.\n",
        "\n",
        "        Com base no destino fornecido pelo cliente, realize uma pesquisa utilizando a ferramenta de busca do Google (google_search) para apresentar um breve resumo e informações detalhadas em cinco categorias principais:\n",
        "\n",
        "1. Panorama Geral:\n",
        "\n",
        "Breve Resumo Histórico: Apresente um resumo conciso da história do país ou região, destacando eventos importantes e influências culturais.\n",
        "Principais Curiosidades: Compartilhe algumas curiosidades interessantes sobre o local, como costumes únicos, fatos notáveis ou peculiaridades culturais.\n",
        "Notícias Recentes Relevantes: Mencione brevemente notícias recentes que possam ser de interesse para um turista (ex: eventos culturais significativos, novas atrações, informações sobre segurança ou infraestrutura turística).\n",
        "\n",
        "2. Cultura + Principais Pontos Turísticos/Locais Históricos:\n",
        "\n",
        "Cultura: Descreva brevemente os aspectos culturais mais importantes do destino (ex: idioma, religião predominante, artes, música, dança, festivais).\n",
        "Principais Pontos Turísticos: Liste e descreva brevemente 3-5 dos pontos turísticos mais icônicos e imperdíveis do destino.\n",
        "Locais Históricos: Mencione 2-3 locais históricos relevantes, explicando sua importância e o que os torna interessantes para visitar.\n",
        "\n",
        "3. Gastronomia + Principais Restaurantes com Comida Local:\n",
        "\n",
        "Gastronomia: Apresente uma visão geral da culinária local, mencionando ingredientes típicos, pratos tradicionais e influências.\n",
        "Principais Restaurantes com Comida Local: Sugira 2-3 restaurantes bem avaliados que ofereçam uma autêntica experiência da culinária local, mencionando brevemente seus destaques.\n",
        "\n",
        "4. Hospedagem e Transporte + Dicas:\n",
        "\n",
        "Hospedagem: Forneça dicas sobre as melhores regiões para se hospedar, considerando a proximidade dos principais pontos turísticos, segurança e ambiente geral (ex: centro histórico, áreas mais tranquilas, bairros com vida noturna).\n",
        "Transporte: Ofereça informações sobre as principais opções de transporte disponíveis no destino (transporte público, táxis, aplicativos, aluguel de carro) e dicas sobre qual pode ser mais conveniente para diferentes situações.\n",
        "\n",
        "5. Atividades/Experiências + Dicas:\n",
        "\n",
        "Esportes e Atividades ao Ar Livre: Se aplicável ao destino, sugira locais ou atividades para a prática de esportes (ex: trilhas, praias para esportes aquáticos, parques) e outras experiências ao ar livre (ex: passeios de barco, observação de vida selvagem).\n",
        "Experiências Locais: Incentive o cliente a vivenciar a cultura local, sugerindo atividades como visitar mercados tradicionais, assistir a apresentações culturais, participar de workshops ou interagir com a comunidade local.\n",
        "\n",
        "Formato da Resposta:\n",
        "\n",
        "Apresente o panorama geral de forma clara, concisa e envolvente. Utilize títulos e subtítulos para cada categoria.\n",
        "Seja informativo e busque despertar a curiosidade do cliente sobre o destino.\n",
        "        \"\"\",\n",
        "        description=\"Agente que crie um resumo e panorama geral sobre o destino da viagem\",\n",
        "        tools=[google_search]\n",
        "    )\n",
        "\n",
        "    entrada_do_agente_turismo = f\"Destino: {destino}\"\n",
        "\n",
        "    resumo = call_agent(turismo, entrada_do_agente_turismo)\n",
        "    return resumo"
      ],
      "metadata": {
        "id": "o8bqIfi_DyH8"
      },
      "execution_count": 12,
      "outputs": []
    },
    {
      "cell_type": "code",
      "source": [
        "################################################\n",
        "# --- Agente 2: Agente de viagem [financeiro] --- #\n",
        "################################################\n",
        "\n",
        "\n",
        "def agente_financeiro(destino, cidade_partida, epoca, duracao, num_pessoas, experiencia, interesses, orcamento):\n",
        "    financeiro = Agent(\n",
        "        name=\"agente_financeiro\",\n",
        "        model=\"gemini-2.0-flash\",\n",
        "        instruction=\"\"\"\n",
        "        Você é um agente de viagens especializado em fornecer um planejamento financeiro detalhado para os clientes.\n",
        "        Sua tarefa é estimar os custos totais de uma viagem com base no destino e demais informações fornecidas pelo cliente.\n",
        "\n",
        "        Com base no destino fornecido pelo cliente e outras informações relevantes, realize uma pesquisa utilizando a ferramenta de busca do Google (google_search) para buscar os seguintes custos:\n",
        "\n",
        "1 Valor das Passagens Aéreas:\n",
        "\n",
        "Estime o custo médio das passagens aéreas de uma cidade de partida comum para o destino (se a cidade de partida não for fornecida, mencione isso na estimativa).\n",
        "Apresente o valor por pessoa e o valor total para o número de viajantes.\n",
        "Mencione que os preços podem variar dependendo da época da viagem, antecedência da compra e companhia aérea.\n",
        "\n",
        "2 Valor da Estadia (Hospedagem):\n",
        "\n",
        "Estime o custo médio da hospedagem por noite no destino, considerando diferentes categorias (econômico, padrão, luxo).\n",
        "Calcule o custo total estimado para a duração da viagem e o número de viajantes.\n",
        "Mencione que os preços podem variar dependendo da localização, tipo de acomodação e época da viagem.\n",
        "\n",
        "3 Valor da Alimentação:\n",
        "\n",
        "Estime o custo médio diário por pessoa para alimentação, considerando opções econômicas e restaurantes de nível médio.\n",
        "Calcule o custo total estimado para a duração da viagem e o número de viajantes.\n",
        "Se o cliente mencionar preferências específicas de restaurantes, tente encontrar uma faixa de preço média para esses tipos de estabelecimentos no destino.\n",
        "\n",
        "4 Valor do Transporte:\n",
        "\n",
        "Estime os custos médios para se locomover no destino, considerando transporte público e aplicativos de transporte.\n",
        "Apresente uma estimativa diária ou para a duração da viagem (se possível).\n",
        "Se o cliente mencionar interesse em alugar um carro, inclua uma estimativa do custo médio da diária e possíveis custos adicionais (seguro, combustível).\n",
        "\n",
        "5 Valor dos Passeios:\n",
        "\n",
        "Com base nos tipos de experiências e interesses mencionados pelo cliente, liste alguns passeios populares no destino e seus custos médios.\n",
        "Apresente um valor total estimado para os passeios sugeridos.\n",
        "\n",
        "6 Caixa Extra para Compras e Emergências:\n",
        "\n",
        "Sugira uma porcentagem (por exemplo, 10-15%) do custo total estimado da viagem como um caixa extra para imprevistos ou compras.\n",
        "Apresente o valor sugerido em moeda local (se identificada) e em Reais (se possível).\n",
        "\n",
        "Formato da Resposta:\n",
        "\n",
        "Apresente o planejamento financeiro de forma clara e organizada, com subtotais para cada categoria e um valor total estimado da viagem.\n",
        "\n",
        "\n",
        "        \"\"\",\n",
        "        description=\"Agente que faz o planejamento financeiro de viagens\",\n",
        "        tools=[google_search]\n",
        "    )\n",
        "    entrada_do_agente_financeiro = f\"Destino: {destino}\"\\\n",
        "    f\"Partida de: {cidade_partida}\"\\\n",
        "    f\"Época: {epoca}\"\\\n",
        "    f\"Duração: {duracao}\"\\\n",
        "    f\"Pessoas: {num_pessoas}\"\\\n",
        "    f\"Experiência: {experiencia}\"\\\n",
        "    f\"Interesses: {interesses}\"\\\n",
        "    f\"Orçamento: {orcamento}\"\n",
        "\n",
        "    planejamento = call_agent(financeiro, entrada_do_agente_financeiro)\n",
        "    return planejamento\n",
        "\n",
        "    #Utilize a moeda local do destino (se identificada) e, se possível, forneça uma conversão aproximada para Reais (BRL)."
      ],
      "metadata": {
        "id": "y3VO1uo5_ghO"
      },
      "execution_count": 13,
      "outputs": []
    },
    {
      "cell_type": "code",
      "source": [
        "######################################\n",
        "# --- Agente 3: Agente de viagem [Roteiro] --- #\n",
        "######################################\n",
        "def agente_roteiro(destino, cidade_partida, epoca, duracao, num_pessoas, experiencia, interesses, orcamento, planejamento):\n",
        "    roteiro = Agent(\n",
        "        name=\"agente_redator\",\n",
        "        model=\"gemini-2.0-flash\",\n",
        "        instruction=\"\"\"\n",
        "            Você é um agente de viagens especializado em criar roteiros personalizados e detalhados para os clientes.\n",
        "            Sua tarefa é desenvolver um plano de viagem completo, levando em consideração diversas informações fornecidas pelo cliente para garantir uma experiência memorável e alinhada com suas expectativas.\n",
        "\n",
        "            Com base nas informações fornecidas pelo cliente, crie um roteiro detalhado para a viagem, incluindo:\n",
        "\n",
        "1 Visão Geral do Roteiro:\n",
        "\n",
        "Um breve resumo da proposta do roteiro, destacando como ele atende às preferências e interesses do cliente.\n",
        "Mencione o ritmo geral do roteiro (intenso, equilibrado, relaxado).\n",
        "\n",
        "2 Cronograma Diário Detalhado: Para cada dia da viagem, inclua:\n",
        "\n",
        "Manhã: Sugestão de atividade ou ponto turístico a ser visitado.\n",
        "Almoço: Sugestão de local para almoçar que esteja alinhado com as preferências (se fornecidas) ou seja conveniente para a atividade da manhã. Mencione o tipo de culinária e faixa de preço (se possível).\n",
        "Tarde: Sugestão de atividade ou ponto turístico a ser visitado.\n",
        "Noite: Sugestão de atividade (jantar, evento cultural, vida noturna, tempo livre). Mencione o tipo de culinária e faixa de preço (se possível) para o jantar.\n",
        "Observações: Informações adicionais relevantes, como tempo estimado de deslocamento entre as atividades, necessidade de reserva, melhor forma de chegar ao local (de acordo com as preferências de transporte), e dicas extras.\n",
        "\n",
        "3 Considerações Especiais:\n",
        "\n",
        "Para a época da viagem: Mencione se há eventos especiais, clima típico ou outras considerações importantes para o período.\n",
        "Em relação ao orçamento: Se o orçamento for apertado, sugira opções de atividades gratuitas ou de baixo custo e restaurantes mais acessíveis. Se o orçamento for mais flexível, inclua opções mais exclusivas.\n",
        "Atendendo às preferências de experiências e interesses: Certifique-se de que as atividades propostas estejam diretamente relacionadas aos interesses e ao tipo de experiência desejada pelo cliente.\n",
        "Dias Livres (se aplicável): Se houver dias livres no roteiro, forneça algumas sugestões opcionais de atividades ou áreas para explorar com base nos interesses do cliente.\n",
        "\n",
        "4 Informações Práticas:\n",
        "\n",
        "Transporte: Breves orientações sobre como se locomover no destino, com base nas preferências do cliente e nas sugestões do roteiro.\n",
        "Alimentação: Dicas gerais sobre a culinária local e sugestões de tipos de restaurantes a experimentar.\n",
        "\n",
        "Formato da Resposta:\n",
        "\n",
        "Apresente o roteiro de forma clara, organizada e fácil de seguir.\n",
        "Utilize títulos e subtítulos para cada dia e atividade.\n",
        "Seja conciso, mas forneça informações suficientes para que o cliente tenha uma boa compreensão do plano.\n",
        "\n",
        "\n",
        "\n",
        "\n",
        "            \"\"\",\n",
        "        description=\"Agente que faz o roteiro de viagens\"\n",
        "    )\n",
        "    entrada_do_agente_roteiro = f\"Destino: {destino}\"\\\n",
        "    f\"Partida de: {cidade_partida}\"\\\n",
        "    f\"Época: {epoca}\"\\\n",
        "    f\"Duração: {duracao}\"\\\n",
        "    f\"Pessoas: {num_pessoas}\"\\\n",
        "    f\"Experiência: {experiencia}\"\\\n",
        "    f\"Interesses: {interesses}\"\\\n",
        "    f\"Orçamento: {orcamento}\"\n",
        "\n",
        "    # Executa o agente\n",
        "    guia_viagem = call_agent(roteiro, entrada_do_agente_roteiro)\n",
        "    return guia_viagem"
      ],
      "metadata": {
        "id": "uOqlg2TRLVh1"
      },
      "execution_count": 14,
      "outputs": []
    },
    {
      "cell_type": "code",
      "source": [
        "print(\"🚀 Iniciando o Sistema de Planejamento de Viagens Agentes 🚀\")\n",
        "\n",
        "# --- Coleta de informações do usuário ---\n",
        "destino = input(\"Por favor, digite o DESTINO para onde quer viajar: \")\n",
        "cidade_partida = input(\"De qual cidade você irá embarcar?: \")\n",
        "epoca = input(\"Qual época (ou data) está planejando viajar?: \")\n",
        "duracao = input(\"Qual a duração da viagem (em dias)?: \")\n",
        "num_pessoas = input(\"Quantas pessoas irão viajar?: \")\n",
        "experiencia = input(\"\"\"Qual o principal tipo de experiência que você busca em suas férias? \\n\n",
        "- imersão cultural\\n\n",
        "- foco na gastronomia\\n\n",
        "- descanso/relaxamento\\n\n",
        "- aventura emocionante\\n\n",
        "Sinta-se à vontade para descrever o que mais te atrai: \"\"\")\n",
        "interesses = input(\"\"\"Você tem algum interesse ou hobby específico que gostaria de incluir na sua viagem? \\n\n",
        "- corrida de rua\\n\n",
        "- shoppings\\n\n",
        "- vinícolas\\n\n",
        "- livros\\n\n",
        "Compartilhe seus interesses: \"\"\")\n",
        "orcamento = input(\"Qual a sua estimativa de orçamento total para esta viagem (em reais - R$)?: \")\n",
        "\"\\n\"\n",
        "\n",
        "# Inserir lógica do sistema de agentes ################################################\n",
        "if not destino:\n",
        "    print(\"Você esqueceu de digitar o DESTINO!\")\n",
        "else:\n",
        "    print(f\"Maravilha! Vamos criar o seu plano de viagem para {destino}\")\n",
        "\n",
        "    resumo = agente_turismo(destino)\n",
        "    print(\"\\n--- 📝 Resultado do Agente 1 (Resumo) ---\\n\")\n",
        "    display(to_markdown(resumo))\n",
        "    print(\"--------------------------------------------------------------\")\n",
        "\n",
        "    planejamento = agente_financeiro(destino, cidade_partida, epoca, duracao, num_pessoas, experiencia, interesses, orcamento)\n",
        "    print(\"\\n--- 📝 Resultado do Agente 2 (Financeiro) ---\\n\")\n",
        "    display(to_markdown(planejamento))\n",
        "    print(\"--------------------------------------------------------------\")\n",
        "\n",
        "    guia_viagem = agente_roteiro(destino, cidade_partida, epoca, duracao, num_pessoas, experiencia, interesses, orcamento, planejamento)\n",
        "    print(\"\\n--- 📝 Resultado do Agente 3 (Roteiro) ---\\n\")\n",
        "    display(to_markdown(guia_viagem))"
      ],
      "metadata": {
        "id": "6xzI6LKzxxnN",
        "colab": {
          "base_uri": "https://localhost:8080/",
          "height": 1000
        },
        "outputId": "83c807ed-6977-4f7b-90dc-d549a5763b7a"
      },
      "execution_count": 15,
      "outputs": [
        {
          "output_type": "stream",
          "name": "stdout",
          "text": [
            "🚀 Iniciando o Sistema de Planejamento de Viagens Agentes 🚀\n",
            "Por favor, digite o DESTINO para onde quer viajar: madri\n",
            "De qual cidade você irá embarcar?: sao apulo\n",
            "Qual época (ou data) está planejando viajar?: abril 2026\n",
            "Qual a duração da viagem (em dias)?: 10 dias\n",
            "Quantas pessoas irão viajar?: 1 pessoa\n",
            "Qual o principal tipo de experiência que você busca em suas férias? \n",
            "\n",
            "- imersão cultural\n",
            "\n",
            "- foco na gastronomia\n",
            "\n",
            "- descanso/relaxamento\n",
            "\n",
            "- aventura emocionante\n",
            "\n",
            "Sinta-se à vontade para descrever o que mais te atrai: cultura\n",
            "Você tem algum interesse ou hobby específico que gostaria de incluir na sua viagem? \n",
            "\n",
            "- corrida de rua\n",
            "\n",
            "- shoppings\n",
            "\n",
            "- vinícolas\n",
            "\n",
            "- livros\n",
            "\n",
            "Compartilhe seus interesses: compras\n",
            "Qual a sua estimativa de orçamento total para esta viagem (em reais - R$)?: \n",
            "10000\n",
            "Maravilha! Vamos criar o seu plano de viagem para madri\n",
            "\n",
            "--- 📝 Resultado do Agente 1 (Resumo) ---\n",
            "\n"
          ]
        },
        {
          "output_type": "display_data",
          "data": {
            "text/plain": [
              "<IPython.core.display.Markdown object>"
            ],
            "text/markdown": "> Olá! Madri é um destino incrível, cheio de história, cultura vibrante e gastronomia deliciosa. Aqui está um panorama geral para despertar o seu interesse:\n> \n> \n> ## 1. Panorama Geral:\n> \n> *   **Breve Resumo Histórico**: Madri tem suas origens em um forte mouro do século IX, chamado \"Mayrit\". A cidade ganhou importância quando Filipe II transferiu a corte para lá em 1561, tornando-se a capital da Espanha. Ao longo dos séculos, Madri passou por transformações urbanísticas e eventos históricos marcantes, como a Guerra da Sucessão e a Guerra Civil.\n> *   **Principais Curiosidades:** Os habitantes de Madri são chamados de \"gatos\". A cidade abriga o restaurante mais antigo do mundo, o Botín, fundado em 1725. O Palácio Real de Madri é o maior palácio da Europa Ocidental. Madri é a capital mais alta da Europa, situada a 650 metros acima do nível do mar.\n> *   **Notícias Recentes Relevantes:** Em fevereiro de 2025, Madri continua a ser um destino vibrante com uma rica oferta cultural e gastronômica. Há sempre novos espaços culturais alternativos e mercados surgindo.\n> \n> ## 2. Cultura + Principais Pontos Turísticos/Locais Históricos:\n> \n> *   **Cultura:** A cultura madrilenha é caracterizada pela alegria de viver, arte e uma rica gastronomia. O idioma é o espanhol, e a cidade possui uma forte tradição em artes, música e dança, especialmente o flamenco. Madri é também conhecida por seus festivais e eventos culturais ao longo do ano.\n> *   **Principais Pontos Turísticos:**\n>     *   **Museu do Prado:** Um dos museus de arte mais importantes do mundo, com obras de mestres como Velázquez, Goya e El Greco.\n>     *   **Parque El Retiro:** Um vasto parque urbano com jardins, monumentos, um lago e áreas de recreação.\n>     *   **Palácio Real:** A residência oficial da família real espanhola, com salas ricamente decoradas e uma impressionante coleção de arte.\n>     *   **Plaza Mayor:** Uma praça histórica cercada por edifícios icônicos, palco de eventos e celebrações.\n>     *   **Gran Vía:** Uma avenida movimentada com arquitetura impressionante, lojas e teatros.\n> *   **Locais Históricos:**\n>     *   **Templo de Debod:** Um templo egípcio do século II a.C., presenteado à Espanha pelo Egito, com vistas panorâmicas da cidade.\n>     *   **Plaza de la Villa:** Uma praça com edifícios históricos que remontam à época medieval de Madri.\n> \n> ## 3. Gastronomia + Principais Restaurantes com Comida Local:\n> \n> *   **Gastronomia:** A culinária de Madri é uma celebração de sabores, com pratos tradicionais como o cocido madrileño (um guisado de grão-de-bico, vegetais e carnes), callos a la madrileña (dobradinha) e sanduíche de lula. As tapas são uma parte essencial da experiência gastronômica madrilenha.\n> *   **Principais Restaurantes com Comida Local:**\n>     *   **Restaurante Botín:** O restaurante mais antigo do mundo, famoso por seus assados, especialmente o leitão.\n>     *   **La Bola Taberna:** Um restaurante familiar que serve um autêntico cocido madrileño preparado em potes de barro individuais.\n>     *   **Lhardy:** Um restaurante histórico que serve pratos da culinária madrilenha e espanhola desde 1839.\n> \n> ## 4. Hospedagem e Transporte + Dicas:\n> \n> *   **Hospedagem:** As melhores regiões para se hospedar em Madri incluem o centro da cidade (Sol, Gran Vía), o Barrio de las Letras (para uma experiência cultural), La Latina (para um ambiente boêmio) e Malasaña (para vida noturna).\n> *   **Transporte:** Madri possui um sistema de transporte público eficiente, incluindo metrô, ônibus e trem. O metrô é a maneira mais rápida de se locomover. Caminhar é uma ótima opção, pois Madri é uma cidade amigável para pedestres. Para usar o transporte público, você pode adquirir a Tarjeta Multi, um cartão recarregável.\n> ## 5. Atividades/Experiências + Dicas:\n> \n> *   **Esportes e Atividades ao Ar Livre:** O Parque El Retiro oferece atividades como passeios de barco e caminhadas. O Madrid Río, um parque linear ao longo do rio Manzanares, é ideal para ciclismo e corrida. Nos arredores de Madri, a Serra de Guadarrama é um destino para caminhantes e amantes de esportes ao ar livre.\n> *   **Experiências Locais:** Visite mercados tradicionais como o Mercado de San Miguel e El Rastro. Assista a um show de flamenco. Explore os bairros históricos e suas praças. Desfrute de um chocolate quente na Chocolateria San Ginés.\n> \n"
          },
          "metadata": {}
        },
        {
          "output_type": "stream",
          "name": "stdout",
          "text": [
            "--------------------------------------------------------------\n",
            "\n",
            "--- 📝 Resultado do Agente 2 (Financeiro) ---\n",
            "\n"
          ]
        },
        {
          "output_type": "display_data",
          "data": {
            "text/plain": [
              "<IPython.core.display.Markdown object>"
            ],
            "text/markdown": "> Olá! Com base nas informações fornecidas, preparei um planejamento financeiro detalhado para sua viagem a Madri em abril de 2026, com foco em cultura e compras. Aqui está uma estimativa dos custos totais, considerando sua partida de São Paulo, duração de 10 dias e orçamento de R$10.000:\n> \n> \n> ## Planejamento Financeiro Detalhado para Viagem a Madri (Abril 2026)\n> \n> **1. Passagens Aéreas:**\n> \n> *   **Estimativa:** R$ 3.000 - R$ 5.000 (ida e volta).\n> *   **Observação:** Os preços das passagens aéreas de São Paulo para Madri podem variar significativamente dependendo da antecedência da compra, da companhia aérea e da época da viagem. Abril é um mês de alta temporada, então os preços podem ser mais elevados.\n> *   **Total:** R$ 3.000 - R$ 5.000 (por pessoa).\n> \n> **2. Hospedagem:**\n> \n> *   **Estimativa:**\n>     *   Econômico (hostel/hotel 2-3 estrelas): R$ 250 - R$ 400 por noite.\n>     *   Padrão (hotel 3-4 estrelas): R$ 500 - R$ 800 por noite.\n>     *   Luxo (hotel 5 estrelas): Acima de R$ 1.500 por noite.\n> *   **Total (10 noites):**\n>     *   Econômico: R$ 2.500 - R$ 4.000.\n>     *   Padrão: R$ 5.000 - R$ 8.000.\n>     *   Luxo: Acima de R$ 15.000.\n> \n> **3. Alimentação:**\n> \n> *   **Estimativa:**\n>     *   Econômico: €40 por dia (R$220,00).\n>     *   Restaurantes nível médio: €82 por dia (R$451,00).\n> *   **Total (10 dias):**\n>     *   Econômico: R$ 2.200.\n>     *   Restaurantes nível médio: R$ 4.510.\n> \n> **4. Transporte:**\n> \n> *   **Estimativa:**\n>     *   Transporte público (Metrô e ônibus): O bilhete que vale por 10 viagens custa 14,20€ (R$78,00). Bilhete único: 1,50€ (R$8,25).\n>     *   Aplicativos de transporte: Varia muito dependendo da distância e demanda.\n> *   **Total (10 dias):**\n>     *   Transporte público: R$ 400 (estimativa).\n>     *   Aplicativos de transporte: R$ 500 (estimativa).\n> \n> **5. Passeios:**\n> \n> *   **Sugestões:**\n>     *   Museu do Prado: 15€ (R$82,50).\n>     *   Palácio Real: 13€ (R$71,50).\n>     *   Estádio Santiago Bernabéu: 15€ (R$82,50).\n>     *   Show de Flamenco: A partir de 25€ (R$137,50).\n> *   **Total:** R$ 500 (estimativa).\n> \n> **6. Compras:**\n> \n> *   **Estimativa:** Depende muito do seu estilo de compra. Se você pretende fazer compras, reserve uma parte significativa do seu orçamento.\n> *   **Sugestão:** Defina um valor máximo para gastos com compras antes da viagem para evitar estouros no orçamento.\n> \n> **7. Caixa Extra para Imprevistos:**\n> \n> *   **Sugestão:** 15% do custo total estimado da viagem.\n> *   **Estimativa:** R$ 1.500 (em Reais).\n> \n> **Resumo dos Custos (Estimativa)**\n> \n> Considerando um estilo de viagem econômico a médio:\n> \n> *   Passagens Aéreas: R$ 3.000 - R$ 5.000\n> *   Hospedagem: R$ 2.500 - R$ 8.000\n> *   Alimentação: R$ 2.200 - R$ 4.510\n> *   Transporte: R$ 400 - R$ 500\n> *   Passeios: R$ 500\n> *   Caixa Extra: R$ 1.500\n> *   **Total Estimado:** R$ 10.100 - R$ 20.010\n> \n> **Observações:**\n> \n> *   Esta é uma estimativa, e os custos reais podem variar.\n> *   Os preços em euros foram convertidos para reais utilizando uma taxa de câmbio de 1 EUR = R$ 5,50.\n> *   Recomenda-se monitorar os preços das passagens aéreas e hospedagem com antecedência e reservar o quanto antes para garantir melhores tarifas.\n> *   Abril é um mês de alta temporada em Madri, então é importante planejar e reservar com antecedência para evitar preços mais altos e disponibilidade limitada.\n> *   Considere a compra de um seguro de viagem, que é obrigatório para entrar na Espanha e pode te proteger contra imprevistos.\n> \n> Espero que este planejamento financeiro detalhado te ajude a organizar sua viagem a Madri!\n"
          },
          "metadata": {}
        },
        {
          "output_type": "stream",
          "name": "stdout",
          "text": [
            "--------------------------------------------------------------\n",
            "\n",
            "--- 📝 Resultado do Agente 3 (Roteiro) ---\n",
            "\n"
          ]
        },
        {
          "output_type": "display_data",
          "data": {
            "text/plain": [
              "<IPython.core.display.Markdown object>"
            ],
            "text/markdown": "> ## Roteiro Detalhado de 10 Dias em Madri (Abril de 2026)\n> \n> **Visão Geral do Roteiro:**\n> \n> Este roteiro foi cuidadosamente elaborado para proporcionar uma imersão na rica cultura de Madri, com foco em experiências autênticas, arte, história e, claro, tempo para compras. O ritmo é equilibrado, permitindo que você explore a cidade com calma e aproveite cada momento.\n> \n> **Cronograma Diário Detalhado:**\n> \n> **Dia 1: Chegada em Madri e Boas-Vindas**\n> \n> *   **Manhã:** Chegada ao Aeroporto Adolfo Suárez Madrid-Barajas (MAD). Traslado para o hotel (sugestão: utilize o serviço de trem expresso ou táxi/aplicativo). Check-in e tempo para descanso.\n> *   **Almoço:** Restaurante \"Sobrino de Botín\" (cozinha tradicional espanhola, faixa de preço média-alta), o restaurante mais antigo do mundo, para uma experiência gastronômica histórica.\n> *   **Tarde:** Passeio relaxante pelo Parque del Retiro, o pulmão verde de Madri. Explore o lago, o Palácio de Cristal e os jardins.\n> *   **Noite:** Jantar no Mercado de San Miguel (tapas e vinhos, faixa de preço média), um mercado gourmet com diversas opções de petiscos espanhóis.\n> \n> **Dia 2: Arte e História no Triângulo Dourado**\n> \n> *   **Manhã:** Visita ao Museu do Prado, um dos mais importantes museus de arte do mundo. Foque nas obras de Goya, Velázquez e El Greco.\n> *   **Almoço:** \"Taberna La Carmencita\" (cozinha espanhola tradicional, faixa de preço média), um restaurante histórico com pratos clássicos.\n> *   **Tarde:** Exploração do Museu Reina Sofía, com foco na arte moderna e contemporânea espanhola, incluindo a famosa obra \"Guernica\" de Picasso.\n> *   **Noite:** Show de flamenco no Corral de la Morería (jantar e show, faixa de preço alta), uma experiência autêntica da cultura espanhola.\n> \n> **Dia 3: Palácio Real e Compras na Gran Vía**\n> \n> *   **Manhã:** Visita ao Palácio Real de Madri, a residência oficial da família real espanhola. Explore os salões, a coleção de arte e os jardins.\n> *   **Almoço:** \"Mercado de San Antón\" (opções variadas, faixa de preço média), um mercado moderno com restaurantes e bares no terraço.\n> *   **Tarde:** Compras na Gran Vía, a principal avenida de Madri, com lojas de departamento, boutiques de grife e cinemas.\n> *   **Noite:** Jantar no \"Rosi La Loca\" (cozinha internacional com toques espanhóis, faixa de preço média), um restaurante moderno e animado.\n> \n> **Dia 4: Toledo, a Cidade Imperial**\n> \n> *   **Dia inteiro:** Excursão de um dia a Toledo, uma cidade histórica Patrimônio Mundial da UNESCO. Visite a Catedral de Toledo, a Sinagoga de Santa María la Blanca e admire a vista panorâmica da cidade.\n> *   **Almoço:** Restaurante em Toledo (cozinha tradicional da região, faixa de preço média), experimente pratos como o \"cozido toledano\".\n> *   **Noite:** Retorno a Madri e jantar livre (sugestão: explore um bairro diferente como La Latina).\n> \n> **Dia 5: El Rastro e o Templo de Debod**\n> \n> *   **Manhã:** Visita ao El Rastro, o maior mercado de rua de Madri (somente aos domingos). Explore as barracas de antiguidades, roupas, artesanato e comida.\n> *   **Almoço:** Tapas em La Latina (faixa de preço baixa a média), aproveite a atmosfera animada do bairro.\n> *   **Tarde:** Visita ao Templo de Debod, um templo egípcio doado à Espanha. Admire o pôr do sol com uma vista panorâmica da cidade.\n> *   **Noite:** Jantar no \"Lateral\" (tapas e petiscos, faixa de preço média), um restaurante popular com diversas opções de tapas.\n> \n> **Dia 6: Dia Livre para Exploração**\n> \n> *   **Dia inteiro:** Dia livre para explorar Madri no seu próprio ritmo. Algumas sugestões:\n>     *   Visitar o Estádio Santiago Bernabéu (para fãs de futebol).\n>     *   Explorar o bairro de Malasaña, conhecido pela sua atmosfera boêmia e lojas vintage.\n>     *   Fazer um tour gastronômico para degustar os sabores de Madri.\n> *   **Almoço e Jantar:** Livre, explore as opções gastronômicas da cidade.\n> \n> **Dia 7: Segóvia e Aqueduto Romano**\n> \n> *   **Dia inteiro:** Excursão de um dia a Segóvia, outra cidade histórica com um impressionante aqueduto romano. Visite o Alcázar de Segóvia, a Catedral e explore as ruas medievais.\n> *   **Almoço:** Restaurante em Segóvia (cozinha tradicional da região, faixa de preço média), experimente o \"cochinillo asado\" (leitão assado).\n> *   **Noite:** Retorno a Madri e jantar no \"La Barraca\" (paella, faixa de preço média), um restaurante especializado em paella.\n> \n> **Dia 8: Compras de Luxo e Jardim Botânico**\n> \n> *   **Manhã:** Compras no bairro de Salamanca, conhecido pelas suas boutiques de luxo e marcas internacionais.\n> *   **Almoço:** Restaurante no bairro de Salamanca (opções variadas, faixa de preço média a alta).\n> *   **Tarde:** Visita ao Real Jardín Botánico, um oásis de tranquilidade com diversas espécies de plantas.\n> *   **Noite:** Jantar no \"Ten con Ten\" (cozinha espanhola moderna, faixa de preço alta), um restaurante elegante e sofisticado.\n> \n> **Dia 9: Mercado de San Fernando e Arte Urbana**\n> \n> *   **Manhã:** Visita ao Mercado de San Fernando, um mercado local com produtos frescos, restaurantes e lojas de artesanato.\n> *   **Almoço:** Restaurante no Mercado de San Fernando (opções variadas, faixa de preço baixa a média).\n> *   **Tarde:** Exploração do bairro de Lavapiés, conhecido pela sua arte urbana, atmosfera multicultural e lojas alternativas.\n> *   **Noite:** Jantar no \"El Sur\" (tapas e petiscos, faixa de preço média), um restaurante popular com um ambiente acolhedor.\n> \n> **Dia 10: Despedida de Madri**\n> \n> *   **Manhã:** Últimas compras ou visita a algum ponto turístico que ficou faltando.\n> *   **Almoço:** Livre (sugestão: aproveite para experimentar um último prato típico).\n> *   **Tarde:** Traslado para o Aeroporto Adolfo Suárez Madrid-Barajas (MAD) e embarque para São Paulo.\n> \n> **Considerações Especiais:**\n> \n> *   **Época da Viagem (Abril de 2026):** Abril é uma ótima época para visitar Madri, com temperaturas amenas e agradáveis. Verifique se há algum evento especial ou festival acontecendo durante a sua estadia.\n> *   **Orçamento:** Com um orçamento de 10.000 euros, você pode desfrutar de uma viagem confortável e com algumas experiências mais exclusivas.\n> *   **Preferências de Experiências e Interesses:** O roteiro foi elaborado para atender aos seus interesses em cultura e compras, com foco em museus, locais históricos, mercados e áreas de compras variadas.\n> \n> **Informações Práticas:**\n> \n> *   **Transporte:** Madri possui um excelente sistema de transporte público, incluindo metrô, ônibus e trem. Caminhar também é uma ótima maneira de explorar a cidade. Considere adquirir um cartão de transporte para facilitar o uso do transporte público.\n> *   **Alimentação:** A culinária espanhola é rica e variada. Experimente tapas, paella, jamón ibérico, churros com chocolate e vinhos locais. Explore os mercados e restaurantes de diferentes bairros para descobrir novos sabores.\n> \n> Espero que este roteiro detalhado ajude você a planejar uma viagem inesquecível a Madri!\n"
          },
          "metadata": {}
        }
      ]
    }
  ]
}